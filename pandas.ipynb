{
 "cells": [
  {
   "cell_type": "markdown",
   "metadata": {
    "deletable": true,
    "editable": true
   },
   "source": [
    "# <span style=\"color:seagreen;\">Bi 410/510 Project 9:  Pandas</span>"
   ]
  },
  {
   "cell_type": "markdown",
   "metadata": {
    "deletable": true,
    "editable": true
   },
   "source": [
    "##### Due 11:00 P.M. March 20, 2017"
   ]
  },
  {
   "cell_type": "markdown",
   "metadata": {
    "deletable": true,
    "editable": true
   },
   "source": [
    "##### Reading:"
   ]
  },
  {
   "cell_type": "markdown",
   "metadata": {
    "deletable": true,
    "editable": true
   },
   "source": [
    "* lecture notes from Mar 13\n",
    "* _CSB_ Chapter 6 (skim 6.1--6.2, read 6.3)\n",
    "* documentation online at http://pandas.pydata.org (esp. \"10 minutes to Pandas\")"
   ]
  },
  {
   "cell_type": "markdown",
   "metadata": {
    "deletable": true,
    "editable": true
   },
   "source": [
    "###  <span style=\"color:seagreen\">Instructions</span>"
   ]
  },
  {
   "cell_type": "markdown",
   "metadata": {
    "deletable": true,
    "editable": true
   },
   "source": [
    "The final programming project is a quick introduction to Pandas, a Python library widely used for data analysis. \n",
    "\n",
    "The data set to use for this project is in a file named `clusters.csv` that you can download from Canvas.\n",
    "\n",
    "The exercises in this notebook are less structured than previous programming exercises.  One of the goals this week is to help you explore the Pandas documentation to see what's possible and then to take what you learn by reading the documentation and apply it to our data set."
   ]
  },
  {
   "cell_type": "markdown",
   "metadata": {
    "deletable": true,
    "editable": true
   },
   "source": [
    "###  <span style=\"color:seagreen\">Import the Library</span>"
   ]
  },
  {
   "cell_type": "markdown",
   "metadata": {
    "deletable": true,
    "editable": true
   },
   "source": [
    "Execute the following code cell each time you open this notebook."
   ]
  },
  {
   "cell_type": "code",
   "execution_count": null,
   "metadata": {
    "collapsed": false,
    "deletable": true,
    "editable": true
   },
   "outputs": [],
   "source": [
    "import pandas as pd\n",
    "import numpy as np"
   ]
  },
  {
   "cell_type": "markdown",
   "metadata": {
    "deletable": true,
    "editable": true
   },
   "source": [
    "If you get a \"no module\" error you need to install one or both of the libraries -- see the instructions in the Mar 13 lecture notes."
   ]
  },
  {
   "cell_type": "markdown",
   "metadata": {
    "deletable": true,
    "editable": true
   },
   "source": [
    "### <span style=\"color:seagreen\">1. &nbsp; Read the Data </span>"
   ]
  },
  {
   "cell_type": "markdown",
   "metadata": {
    "deletable": true,
    "editable": true
   },
   "source": [
    "Use the library function named `read_csv` to load the data from `clusters.csv` into a new data frame named `clusters` and then display the contents of the frame.  You can use a `print` statement, or, if you ask Python to display the table, it will show up looking something like this in your notebook:\n",
    "\n",
    "![frame](http://pages.uoregon.edu/conery/Bi410/Pandas/frame.png)\n"
   ]
  },
  {
   "cell_type": "code",
   "execution_count": null,
   "metadata": {
    "collapsed": false,
    "deletable": false,
    "editable": true,
    "nbgrader": {
     "checksum": "864de2ccafc04b4916dd69313eadc532",
     "grade": true,
     "grade_id": "clusters",
     "locked": false,
     "points": 10,
     "solution": true
    }
   },
   "outputs": [],
   "source": [
    "# YOUR CODE HERE\n",
    "pass"
   ]
  },
  {
   "cell_type": "markdown",
   "metadata": {
    "collapsed": true,
    "deletable": true,
    "editable": true
   },
   "source": [
    "### <span style=\"color:seagreen\">2. &nbsp; Column Names </span>"
   ]
  },
  {
   "cell_type": "markdown",
   "metadata": {
    "deletable": true,
    "editable": true
   },
   "source": [
    "The three data columns are the expected number of sequences for each species, the number of clusters identified by `vsearch`, and the number identified by `swarm`.\n",
    "\n",
    "Write a Python expression that prints the names of the columns in the data frame."
   ]
  },
  {
   "cell_type": "code",
   "execution_count": null,
   "metadata": {
    "collapsed": false,
    "deletable": false,
    "editable": true,
    "nbgrader": {
     "checksum": "1d99efa6c6581a729fb3b709a34e710e",
     "grade": true,
     "grade_id": "columns",
     "locked": false,
     "points": 10,
     "solution": true
    }
   },
   "outputs": [],
   "source": [
    "# YOUR CODE HERE\n",
    "pass"
   ]
  },
  {
   "cell_type": "markdown",
   "metadata": {
    "collapsed": true,
    "deletable": true,
    "editable": true
   },
   "source": [
    "### <span style=\"color:seagreen\">3. &nbsp; Column Statistics </span>"
   ]
  },
  {
   "cell_type": "markdown",
   "metadata": {
    "deletable": true,
    "editable": true
   },
   "source": [
    "Write a for loop that prints the number of clusters and the total number of sequences in each column.  Your output should look something like this:\n",
    "\n",
    "```\n",
    "expected   21  100149\n",
    "vsearch    14   95939\n",
    "swarm      23   95953\n",
    "```\n",
    "\n",
    "(It's OK if you don't have the exact same format, or if some of your values are floats)."
   ]
  },
  {
   "cell_type": "code",
   "execution_count": null,
   "metadata": {
    "collapsed": false,
    "deletable": false,
    "editable": true,
    "nbgrader": {
     "checksum": "a583931667e96cc9fc7885fff6f49cbe",
     "grade": true,
     "grade_id": "stats",
     "locked": false,
     "points": 20,
     "solution": true
    }
   },
   "outputs": [],
   "source": [
    "# YOUR CODE HERE\n",
    "pass"
   ]
  },
  {
   "cell_type": "markdown",
   "metadata": {
    "collapsed": true,
    "deletable": true,
    "editable": true
   },
   "source": [
    "### <span style=\"color:seagreen\">4. &nbsp; Differences </span>"
   ]
  },
  {
   "cell_type": "markdown",
   "metadata": {
    "deletable": true,
    "editable": true
   },
   "source": [
    "Write a function that compares two columns and returns the sum of the differences between them.\n",
    "\n",
    "Note that columns might not have the same number of values since some columns have NaN (\"not a number\") entries.  For example, consider a frame named `df` with these two columns:\n",
    "```\n",
    "       A     B\n",
    "      ===   ===\n",
    "       24    20\n",
    "       17    16\n",
    "        8     4\n",
    "        3   NaN\n",
    "        1   NaN\n",
    "```\n",
    "\n",
    "The simplest way to define the number of differences is to use only the rows where both columns have values, in which case the count is 4 + 1 + 4 = 9.\n",
    "\n",
    "Your function should be named `diffs`, and it should take two columns as arguments.  Each column in a frame is a \"series\" object, so the straightforward approach to computing the differences would be to make a new series by subtracting one column from the other and then computing the sum of the result.\n",
    "\n",
    "**Hint:** &nbsp; If `a` and `b` are series objects, `a - b` is a new series made by subtracting `b` from `a`.  Can you figure out how to find the sum of the absolute values of the differences?"
   ]
  },
  {
   "cell_type": "code",
   "execution_count": null,
   "metadata": {
    "collapsed": false,
    "deletable": false,
    "editable": true,
    "nbgrader": {
     "checksum": "080328081330bebb02a5f0913eb2fe71",
     "grade": true,
     "grade_id": "similarity",
     "locked": false,
     "points": 25,
     "solution": true
    }
   },
   "outputs": [],
   "source": [
    "def similarity(col1, col2):\n",
    "    # YOUR CODE HERE\n",
    "    pass"
   ]
  },
  {
   "cell_type": "markdown",
   "metadata": {
    "deletable": true,
    "editable": true
   },
   "source": [
    "Our \"autograder\" will test your function by asking it to compute the differences between the expected counts and those found by `vsearch` and `swarm`."
   ]
  },
  {
   "cell_type": "code",
   "execution_count": null,
   "metadata": {
    "collapsed": false,
    "deletable": false,
    "editable": true,
    "nbgrader": {
     "checksum": "5297c0ee353d02802360d66e986681d9",
     "grade": true,
     "grade_id": "vsearch_test",
     "locked": true,
     "points": 5,
     "solution": false
    }
   },
   "outputs": [],
   "source": [
    "assert similarity(clusters['expected'], clusters['vsearch']) == 4103"
   ]
  },
  {
   "cell_type": "code",
   "execution_count": null,
   "metadata": {
    "collapsed": false,
    "deletable": false,
    "editable": true,
    "nbgrader": {
     "checksum": "5a2232bf3f46d535818ae705912eb69c",
     "grade": true,
     "grade_id": "swarm_test",
     "locked": true,
     "points": 5,
     "solution": false
    }
   },
   "outputs": [],
   "source": [
    "assert similarity(clusters['expected'], clusters['swarm']) == 5432"
   ]
  },
  {
   "cell_type": "markdown",
   "metadata": {
    "collapsed": true,
    "deletable": true,
    "editable": true
   },
   "source": [
    "### <span style=\"color:seagreen\">5. &nbsp; Visualization </span>"
   ]
  },
  {
   "cell_type": "markdown",
   "metadata": {
    "collapsed": true,
    "deletable": true,
    "editable": true
   },
   "source": [
    "Use the code cell below to type a command that plots the distribution of cluster sizes.  Feel free to experiment with different visualzation techniques defined in Pandas.\n",
    "\n",
    "Here are two examples.  The first is a \"bar plot\" that shows all the clusters:\n",
    "\n",
    "![all](http://pages.uoregon.edu/conery/Bi410/Pandas/plot_all.png)\n",
    "\n",
    "It's hard to see the differences because the count for the first cluster is so much bigger.  This picture leaves out the first 5 rows of data so we can \"zoom in\" on the remaining rows:\n",
    "\n",
    "![all](http://pages.uoregon.edu/conery/Bi410/Pandas/plot_rest.png)"
   ]
  },
  {
   "cell_type": "markdown",
   "metadata": {
    "deletable": true,
    "editable": true
   },
   "source": [
    "**Note:** &nbsp; To display a visualization in the notebook execute the command in this code cell before you call the plot function:"
   ]
  },
  {
   "cell_type": "code",
   "execution_count": null,
   "metadata": {
    "collapsed": true,
    "deletable": true,
    "editable": true
   },
   "outputs": [],
   "source": [
    "% matplotlib inline"
   ]
  },
  {
   "cell_type": "code",
   "execution_count": null,
   "metadata": {
    "collapsed": false,
    "deletable": false,
    "editable": true,
    "nbgrader": {
     "checksum": "f7be061899e55cc714645524c086e8c8",
     "grade": true,
     "grade_id": "plots",
     "locked": false,
     "points": 25,
     "solution": true
    }
   },
   "outputs": [],
   "source": [
    "# YOUR CODE HERE\n",
    "pass"
   ]
  },
  {
   "cell_type": "markdown",
   "metadata": {
    "collapsed": true,
    "deletable": true,
    "editable": true
   },
   "source": [
    "### <span style=\"color:seagreen\">Extra Credit</span>"
   ]
  },
  {
   "cell_type": "markdown",
   "metadata": {
    "deletable": true,
    "editable": true
   },
   "source": [
    "If you have some experience with statistics explore different ways to compare columns in the cluster data.  Pandas and Numpy have extensive stats libraries.  Can you figure out how to compute correlation coefficients?  Or do a chi-square test, or some other test for how similar the columns are?"
   ]
  },
  {
   "cell_type": "code",
   "execution_count": null,
   "metadata": {
    "collapsed": true,
    "deletable": true,
    "editable": true
   },
   "outputs": [],
   "source": []
  }
 ],
 "metadata": {
  "kernelspec": {
   "display_name": "Python 3",
   "language": "python",
   "name": "python3"
  },
  "language_info": {
   "codemirror_mode": {
    "name": "ipython",
    "version": 3
   },
   "file_extension": ".py",
   "mimetype": "text/x-python",
   "name": "python",
   "nbconvert_exporter": "python",
   "pygments_lexer": "ipython3",
   "version": "3.5.1"
  }
 },
 "nbformat": 4,
 "nbformat_minor": 0
}
